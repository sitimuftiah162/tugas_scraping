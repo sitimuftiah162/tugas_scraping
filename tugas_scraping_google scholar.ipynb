{
  "nbformat": 4,
  "nbformat_minor": 0,
  "metadata": {
    "colab": {
      "provenance": [],
      "authorship_tag": "ABX9TyNAFjSHJakrV+eAnZYfR3qr",
      "include_colab_link": true
    },
    "kernelspec": {
      "name": "python3",
      "display_name": "Python 3"
    },
    "language_info": {
      "name": "python"
    }
  },
  "cells": [
    {
      "cell_type": "markdown",
      "metadata": {
        "id": "view-in-github",
        "colab_type": "text"
      },
      "source": [
        "<a href=\"https://colab.research.google.com/github/sitimuftiah162/tugas_scraping/blob/main/tugas_scraping_google%20scholar.ipynb\" target=\"_parent\"><img src=\"https://colab.research.google.com/assets/colab-badge.svg\" alt=\"Open In Colab\"/></a>"
      ]
    },
    {
      "cell_type": "code",
      "execution_count": null,
      "metadata": {
        "id": "OybR9KaDoU0n",
        "outputId": "761bde08-e054-4f18-815c-6b2408c52222",
        "colab": {
          "base_uri": "https://localhost:8080/"
        }
      },
      "outputs": [
        {
          "output_type": "stream",
          "name": "stdout",
          "text": [
            "                                               title  \\\n",
            "0  Pelatihan pengolahan sampah organik dengan met...   \n",
            "1  Perubahan Pola Pikir Masyarakat tentang Sampah...   \n",
            "2  Sosialisasi Pemilahan Sampah Organik dan Non-O...   \n",
            "3  Klasifikasi sampah organik dan non-organik men...   \n",
            "4  Pengelolaan Sampah Anorganik Berbasis Hand Cra...   \n",
            "5  Penyuluhan Mengenai Pentingnya Pemilahan Sampa...   \n",
            "6  Pemanfaatan Sampah Organik dan Anorganik Sebag...   \n",
            "7  Pengelolaan Sampah Anorganik di Kelurahan Tlog...   \n",
            "8  Penyadaran Kepada Ibu Rumah Tangga dalam Pemis...   \n",
            "9  Pengelolaan sampah di daerah sepatan kabupaten...   \n",
            "\n",
            "                                                link  \\\n",
            "0  http://ijocs.rcipublisher.org/index.php/ijocs/...   \n",
            "1  http://sunankalijaga.org/prosiding/index.php/a...   \n",
            "2  https://ebsina.or.id/journals/index.php/djpm/a...   \n",
            "3  https://journal.maranatha.edu/index.php/jutisi...   \n",
            "4  http://jurnal.abdimas.id/index.php/peradaban/a...   \n",
            "5  https://www.jurnal.ceredindonesia.or.id/index....   \n",
            "6  https://www.jer.or.id/index.php/jer/article/vi...   \n",
            "7  http://journal.msti-indonesia.com/index.php/aj...   \n",
            "8  https://ejournal.kompetif.com/index.php/diklat...   \n",
            "9  https://adi-journal.org/index.php/adimas/artic...   \n",
            "\n",
            "                                             authors  \\\n",
            "0  L Pranata, I Kurniawan, S Indaryati… - Indones...   \n",
            "1  I Fadillah, A Lutfienzy, F El Kamil… - Prosidi...   \n",
            "2  S Wahyuningsih, B Widiati, T Melinda… - DEDIKA...   \n",
            "3  AI Rasidi, YAH Pasaribu, A Ziqri… - … dan Sist...   \n",
            "4  A Nadjib - Jurnal Abdimas Peradaban, 2022 - ju...   \n",
            "5  GCR Hasibuan, NF Dalimunthe - ABDI SABHA (Jurn...   \n",
            "6  MRS Adzim, RV Rosy, UI Khuzaimah… - Journal of...   \n",
            "7  UH Marshush, E Abubakar… - AJAD: Jurnal …, 202...   \n",
            "8  L Siswati, H Eterudin, D Setiawan… - Diklat Re...   \n",
            "9  DA Kurniawan, AZ Santoso - ADI Pengabdian Kepa...   \n",
            "\n",
            "                                             snippet cited_by filetype  \n",
            "0  … sampah organik yang biasanya kita buang ke d...     Save           \n",
            "1  … Hal ini dikarenakan angka jumlah sampah yang...     Save           \n",
            "2  … Hal ini dikarenakan angka jumlah sampah yang...     Save           \n",
            "3  … Sampah merupakan masalah besar yang dihadapi...     Save           \n",
            "4  … adalah mendirikan Kantor Bank Sampah dan men...     Save           \n",
            "5  … ini juga merupakan salah satu permasalahan k...     Save           \n",
            "6  … pertambahan penduduk Indonesia adalah sampah...     Save           \n",
            "7  … limbah sampah untuk keberhasilan proyek daur...     Save           \n",
            "8  … Chevron Pacific Indonesia. Dikarenakan belum...     Save           \n",
            "9  … komposisi sampah di Indonesia. Pola yang sam...     Save           \n"
          ]
        }
      ],
      "source": [
        "import requests\n",
        "from bs4 import BeautifulSoup\n",
        "import pandas as pd\n",
        "\n",
        "url = 'https://scholar.google.com/scholar?q=sampah+organik+di+indonesia'\n",
        "headers = {'User-Agent': 'Mozilla/5.0'}\n",
        "page = requests.get(url, headers=headers)\n",
        "soup = BeautifulSoup(page.content, 'html.parser')\n",
        "\n",
        "data = []\n",
        "for result in soup.select('div.gs_ri'):\n",
        "  title = result.select_one('h3 a').text.strip() if result.select_one('h3 a') else ''\n",
        "  link = result.select_one('h3 a')['href'] if result.select_one('h3 a') else ''\n",
        "  authors = result.select_one('div.gs_a').text.strip() if result.select_one('div.gs_a') else ''\n",
        "  snippet = result.select_one('div.gs_rs').text.strip() if result.select_one('div.gs_rs') else ''\n",
        "  cited_by = result.select_one('div.gs_fl a:nth-child(1)').text.replace('Cited by ', '').strip() if result.select_one('div.gs_fl a:nth-child(1)') else '0'\n",
        "  filetype = result.select_one('span.gs_ctg2').text.replace('[', '').replace(']', '') if result.select_one('span.gs_ctg2') else ''\n",
        "\n",
        "  data.append({\n",
        "      'title': title,\n",
        "      'link': link,\n",
        "      'authors': authors,\n",
        "      'snippet': snippet,\n",
        "      'cited_by': cited_by,\n",
        "      'filetype': filetype,\n",
        "  })\n",
        "\n",
        "df = pd.DataFrame(data)\n",
        "df.to_csv('scholar_data.csv',index=False,encoding='utf-8-sig')\n",
        "\n",
        "print(df)\n"
      ]
    }
  ]
}